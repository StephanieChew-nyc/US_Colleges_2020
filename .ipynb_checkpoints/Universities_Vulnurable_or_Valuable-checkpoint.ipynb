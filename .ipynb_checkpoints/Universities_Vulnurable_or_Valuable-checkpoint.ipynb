{
 "cells": [
  {
   "cell_type": "code",
   "execution_count": 99,
   "metadata": {},
   "outputs": [],
   "source": [
    "import pandas as pd\n",
    "import numpy as np\n",
    "import seaborn as sns"
   ]
  },
  {
   "cell_type": "code",
   "execution_count": 63,
   "metadata": {},
   "outputs": [],
   "source": [
    "df = pd.read_csv('US Higher Education Value vs. Vulnerability - dataset.csv')"
   ]
  },
  {
   "cell_type": "code",
   "execution_count": 136,
   "metadata": {},
   "outputs": [
    {
     "name": "stdout",
     "output_type": "stream",
     "text": [
      "<class 'pandas.core.frame.DataFrame'>\n",
      "RangeIndex: 438 entries, 0 to 437\n",
      "Data columns (total 30 columns):\n",
      " #   Column                                              Non-Null Count  Dtype  \n",
      "---  ------                                              --------------  -----  \n",
      " 0   Institution Name                                    438 non-null    object \n",
      " 1   Full Time Enrollment                                438 non-null    object \n",
      " 2   State                                               438 non-null    object \n",
      " 3   Rank                                                438 non-null    int64  \n",
      " 4   Rank Pct Rank                                       438 non-null    float64\n",
      " 5   Undergraduate Admit Rate                            438 non-null    object \n",
      " 6   Undergraduate Admit Rate Pct Rank                   438 non-null    float64\n",
      " 7   Average Monthly Search Volume                       438 non-null    object \n",
      " 8   Average Monthly Search Volume Pct Rank              438 non-null    float64\n",
      " 9   Credential Score                                    438 non-null    float64\n",
      " 10  Student Life Grade                                  438 non-null    object \n",
      " 11  Student Life Score                                  438 non-null    float64\n",
      " 12  Experience Score                                    438 non-null    float64\n",
      " 13  15-Year NPV                                         438 non-null    object \n",
      " 14  15-Year NPV PCT Rank                                438 non-null    float64\n",
      " 15  30-Year NPV                                         438 non-null    object \n",
      " 16  30-Year NPV PCT Rank                                438 non-null    float64\n",
      " 17  Instructional Wages per Full-Time Student           438 non-null    object \n",
      " 18  Instructional Wages per Full-Time Student PCT Rank  438 non-null    float64\n",
      " 19  Eduation Score                                      438 non-null    float64\n",
      " 20  Average Undergraduate Tuition and Fees              438 non-null    object \n",
      " 21  Average Undergraduate Tuition & Fees Score          438 non-null    float64\n",
      " 22  Values                                              438 non-null    float64\n",
      " 23  Value-to-Cost Ratio                                 438 non-null    float64\n",
      " 24  Endowment per Full Time Student                     438 non-null    object \n",
      " 25  Endowment per Full Time Student Pct Rank            438 non-null    float64\n",
      " 26  Percentage of International Students                438 non-null    object \n",
      " 27  Percentage of International Students PCT Rank       438 non-null    float64\n",
      " 28  Vulnerability Score                                 438 non-null    float64\n",
      " 29  Prof G Categorization                               438 non-null    object \n",
      "dtypes: float64(16), int64(1), object(13)\n",
      "memory usage: 102.8+ KB\n"
     ]
    }
   ],
   "source": [
    "test_name = df['Institution Name'] == 'Stony Brook University'\n",
    "df.loc[test_name]\n",
    "\n",
    "df.info()"
   ]
  },
  {
   "cell_type": "code",
   "execution_count": 164,
   "metadata": {},
   "outputs": [
    {
     "data": {
      "text/plain": [
       "0      38740.0\n",
       "1      41160.0\n",
       "2      45590.0\n",
       "3      47540.0\n",
       "4      48459.0\n",
       "        ...   \n",
       "433    39500.0\n",
       "434    43985.0\n",
       "435    50530.0\n",
       "436    53430.0\n",
       "437    43500.0\n",
       "Name: Average Undergraduate Tuition and Fees, Length: 438, dtype: float64"
      ]
     },
     "execution_count": 164,
     "metadata": {},
     "output_type": "execute_result"
    }
   ],
   "source": [
    "# df['Value\\n(C x E x E)']\n",
    "#df.rename(columns = {'Value\\n(C x E x E)':'Values'}, inplace=True)\n",
    "#df.drop('Ranking List',axis=1,inplace=True)\n",
    "#df.melt(id_vars=['Institution Name'], value_vars=['Credential Score'])\n",
    "#grouped = df.groupby('Prof G Categorization')\n",
    "\n",
    "#counted_1 = df['Prof G Categorization'].value_counts()\n",
    "#sns.barplot(x='Student Life Score', y='Prof G Categorization', data=df)\n",
    "\n",
    "df['Average Undergraduate Tuition and Fees'] = df['Average Undergraduate Tuition and Fees'].str.strip('$')\n",
    "df['Average Undergraduate Tuition and Fees'] = df['Average Undergraduate Tuition and Fees'].str.replace(',','').astype('float')\n",
    "\n",
    "sns.barplot(x='')\n",
    "\n"
   ]
  },
  {
   "cell_type": "code",
   "execution_count": 152,
   "metadata": {},
   "outputs": [],
   "source": [
    "df['Full Time Enrollment'] = df['Full Time Enrollment'].str.replace(',', '').astype('float')"
   ]
  },
  {
   "cell_type": "code",
   "execution_count": null,
   "metadata": {},
   "outputs": [],
   "source": []
  }
 ],
 "metadata": {
  "kernelspec": {
   "display_name": "Python 3",
   "language": "python",
   "name": "python3"
  },
  "language_info": {
   "codemirror_mode": {
    "name": "ipython",
    "version": 3
   },
   "file_extension": ".py",
   "mimetype": "text/x-python",
   "name": "python",
   "nbconvert_exporter": "python",
   "pygments_lexer": "ipython3",
   "version": "3.7.6"
  }
 },
 "nbformat": 4,
 "nbformat_minor": 4
}
